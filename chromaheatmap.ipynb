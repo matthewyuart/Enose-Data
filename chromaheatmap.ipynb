{
 "cells": [
  {
   "cell_type": "code",
   "execution_count": 3,
   "id": "1cea34c4-7c39-44b7-b7b8-c7f507e56968",
   "metadata": {
    "id": "1cea34c4-7c39-44b7-b7b8-c7f507e56968"
   },
   "outputs": [],
   "source": [
    "import numpy as np;\n",
    "import seaborn as sns; \n",
    "import pandas as pd;\n",
    "from matplotlib import pyplot as plt\n",
    "import glob\n",
    "import os, sys\n",
    "\n",
    "path = '/Users/matthewyu/Library/CloudStorage/GoogleDrive-matttxusa@gmail.com/.shortcut-targets-by-id/0B6zsq5YjjxeBNWNLdmgyWXZHX00/Matthew Yu/2023Science/Jan18'\n",
    "all_files = os.path.join(path, '*.csv')\n",
    "filenames = glob.glob(all_files)\n",
    "\n",
    "for i in filenames: \n",
    "    data = pd.read_csv(i)\n",
    "    actualData = data[['S1', 'S2', 'S3', 'S4', 'S5', 'S6', 'S7', 'S8',\n",
    "           'S9', 'S10', 'S11', 'S12', 'S13', 'S14', 'S15', 'S16', 'S17', 'S18',\n",
    "           'S19', 'S20', 'S21', 'S22', 'S23', 'S24', 'S25', 'S26', 'S27', 'S28',\n",
    "           'S29', 'S30', 'S31', 'S32']]\n",
    "    actualData\n",
    "    \n",
    "    actualData_max_scaled = actualData.copy()\n",
    "    \n",
    "    for column in actualData_max_scaled.columns:\n",
    "        actualData_max_scaled[column] = (actualData_max_scaled[column]- actualData_max_scaled[column].min())  / (actualData_max_scaled[column].max() - actualData_max_scaled[column].min())\n",
    "\n",
    "    sns.heatmap(actualData_max_scaled,\n",
    "                xticklabels=[], \n",
    "                yticklabels=[],\n",
    "                cmap='tab10',\n",
    "                annot=False,\n",
    "                cbar=False)\n",
    "    plt.savefig(i+\".png\")"
   ]
  },
  {
   "cell_type": "code",
   "execution_count": null,
   "id": "395b6595",
   "metadata": {},
   "outputs": [],
   "source": []
  }
 ],
 "metadata": {
  "colab": {
   "provenance": []
  },
  "kernelspec": {
   "display_name": "Python 3 (ipykernel)",
   "language": "python",
   "name": "python3"
  },
  "language_info": {
   "codemirror_mode": {
    "name": "ipython",
    "version": 3
   },
   "file_extension": ".py",
   "mimetype": "text/x-python",
   "name": "python",
   "nbconvert_exporter": "python",
   "pygments_lexer": "ipython3",
   "version": "3.7.15"
  }
 },
 "nbformat": 4,
 "nbformat_minor": 5
}
